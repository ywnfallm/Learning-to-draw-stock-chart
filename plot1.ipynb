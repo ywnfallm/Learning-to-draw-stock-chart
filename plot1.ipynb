{
 "cells": [
  {
   "cell_type": "markdown",
   "metadata": {},
   "source": [
    "# matplotlib基本使用"
   ]
  },
  {
   "cell_type": "code",
   "execution_count": 1,
   "metadata": {
    "collapsed": true
   },
   "outputs": [],
   "source": [
    "import matplotlib.pyplot as plt"
   ]
  },
  {
   "cell_type": "code",
   "execution_count": 5,
   "metadata": {},
   "outputs": [
    {
     "data": {
      "image/png": "[encoded data removed]",
      "text/plain": [
       "<matplotlib.figure.Figure at 0x86be278>"
      ]
     },
     "metadata": {},
     "output_type": "display_data"
    }
   ],
   "source": [
    "fig = plt.figure()\n",
    "ax = fig.add_subplot(1,1,1)\n",
    "ax.plot([1,2,3,4],[2,3,4,5])\n",
    "plt.show()"
   ]
  },
  {
   "cell_type": "markdown",
   "metadata": {},
   "source": [
    "# plot方法绘图函数"
   ]
  },
  {
   "cell_type": "code",
   "execution_count": 4,
   "metadata": {
    "collapsed": true
   },
   "outputs": [],
   "source": [
    "def PlotDemo1():\n",
    "    fig  = plt.figure()\n",
    "    ax = fig.add_subplot(1,1,1)\n",
    "    ax.plot([1,2,3,4],[2,3,4,5])\n",
    "    plt.show()"
   ]
  },
  {
   "cell_type": "markdown",
   "metadata": {},
   "source": [
    "# 增加标题和坐标轴说明"
   ]
  },
  {
   "cell_type": "code",
   "execution_count": 7,
   "metadata": {},
   "outputs": [
    {
     "data": {
      "image/png": "[encoded data removed]",
      "text/plain": [
       "<matplotlib.figure.Figure at 0x85b57b8>"
      ]
     },
     "metadata": {},
     "output_type": "display_data"
    }
   ],
   "source": [
    "fig = plt.figure()\n",
    "ax = fig.add_subplot(1,1,1)\n",
    "fig.suptitle('figure title demo')\n",
    "ax.set_title(\"axes title\")\n",
    "ax.set_xlabel(\"x label\")\n",
    "ax.set_ylabel(\"y label\")\n",
    "ax.plot([1,2,3,4],[2,3,4,5])\n",
    "plt.show()"
   ]
  },
  {
   "cell_type": "markdown",
   "metadata": {},
   "source": [
    "# 股价基本走势图"
   ]
  },
  {
   "cell_type": "markdown",
   "metadata": {},
   "source": [
    "股票的K线图（以日K为例）由日期和价格组成，形成X-Y坐标轴，按照前面的绘图方案，需要传入日期数组和价格数组即可。"
   ]
  },
  {
   "cell_type": "markdown",
   "metadata": {},
   "source": [
    "numpy是常用的数据处理库，将000001.SZ的股价数据（时间范围从20150101到20150930）导入到csv中，然后通过numpy读取得到日期和价格数组。csv文件中包含了两列，日期和价格，分割符号为\",\"，读取过程代码如下："
   ]
  },
  {
   "cell_type": "markdown",
   "metadata": {},
   "source": [
    "dates, close = np.loadtxt(filename,delimiter=\",\", unpack= True, converters={0:mdates.strpdate2num('%Y-%m-%d')})"
   ]
  },
  {
   "cell_type": "markdown",
   "metadata": {},
   "source": [
    "numpy的loadtxt方法：设定了文件中的分隔符号为“，”，unpack是否将数组拆分，True为拆分，即：得到两个数组分别表示日期和收盘价格，converters是将日期类型的字符串转为数组，因为numpy规定其数组中的类型需要一致。"
   ]
  },
  {
   "cell_type": "markdown",
   "metadata": {},
   "source": [
    "# 绘制基础走势图"
   ]
  },
  {
   "cell_type": "markdown",
   "metadata": {},
   "source": [
    "通过numpy得到日期和收盘价格之后，参照先前的示例，通过plot方法进行绘制"
   ]
  },
  {
   "cell_type": "markdown",
   "metadata": {},
   "source": [
    "ax1.plot(dates,close)"
   ]
  },
  {
   "cell_type": "markdown",
   "metadata": {},
   "source": [
    "在上图中，x轴通过数值标识，而不是日期类型。因为我们通过numpy构造数组时，日期按照数值类型存储，可以通过如下方法转换为日期类型"
   ]
  },
  {
   "cell_type": "markdown",
   "metadata": {},
   "source": [
    "X-轴设置主要刻度locator为每日刻度，格式为：DateFormatter(\"%Y-%m-%d\")，每日刻度从第1日到第31日，间隔为15日。"
   ]
  },
  {
   "cell_type": "markdown",
   "metadata": {},
   "source": [
    "ax1.xaxis.set_major_locator(mdates.DayLocator(bymonthday=range(1,32), interval=15))"
   ]
  },
  {
   "cell_type": "markdown",
   "metadata": {},
   "source": [
    "ax1.xaxis.set_major_formatter(mdates.DateFormatter(\"%Y-%m-%d\"))"
   ]
  },
  {
   "cell_type": "markdown",
   "metadata": {},
   "source": [
    "对于X-轴上面的每个ticker标签都向右倾斜45度，这样标签不会重叠在一起便于查看。"
   ]
  },
  {
   "cell_type": "markdown",
   "metadata": {},
   "source": [
    "for label in ax1.xaxis.get_ticklabels(): label.set_rotation(45)"
   ]
  },
  {
   "cell_type": "markdown",
   "metadata": {},
   "source": [
    "也可以按照每月进行显示，X-轴设置主要刻度为每月刻度"
   ]
  },
  {
   "cell_type": "markdown",
   "metadata": {},
   "source": [
    "ax1.xaxis.set_major_locator(mdates.MonthLocator())"
   ]
  },
  {
   "cell_type": "markdown",
   "metadata": {},
   "source": [
    "ax1.xaxis.set_major_formatter(mdates.DateFormatter(\"%Y-%m\"))"
   ]
  },
  {
   "cell_type": "markdown",
   "metadata": {},
   "source": [
    "# 图形边框调整"
   ]
  },
  {
   "cell_type": "markdown",
   "metadata": {},
   "source": [
    "plt.subplots_adjust(bottom=0.13,top=0.95)"
   ]
  },
  {
   "cell_type": "markdown",
   "metadata": {},
   "source": [
    "# 绘制价格平均线"
   ]
  },
  {
   "cell_type": "markdown",
   "metadata": {},
   "source": [
    "在前面的示例中绘制了基本的股票走势图，本节我们利用ta-lib【4】证券技术指标库，绘制5日和10日价格平均线。"
   ]
  },
  {
   "cell_type": "markdown",
   "metadata": {},
   "source": [
    "ta-lib中提供了方法talib.SMA得到价格简单平均线，timeperiod为时间参数，timeperiod=5为五日均线，基于上图增加五日和十日均线，代码如下："
   ]
  },
  {
   "cell_type": "markdown",
   "metadata": {},
   "source": [
    "sma5 = talib.SMA(close, timeperiod = 5)"
   ]
  },
  {
   "cell_type": "markdown",
   "metadata": {},
   "source": [
    "ax1.plot(dates,sma5)"
   ]
  },
  {
   "cell_type": "markdown",
   "metadata": {},
   "source": [
    "sma10 = talib.SMA(close, timeperiod = 10)"
   ]
  },
  {
   "cell_type": "markdown",
   "metadata": {},
   "source": [
    "ax1.plot(dates,sma10)"
   ]
  },
  {
   "cell_type": "markdown",
   "metadata": {},
   "source": [
    "其中，sma5和sma10均为numpy数组。"
   ]
  },
  {
   "cell_type": "markdown",
   "metadata": {},
   "source": [
    "图表如下所示："
   ]
  },
  {
   "cell_type": "markdown",
   "metadata": {},
   "source": [
    "在坐标轴中有三条曲线，matplotlib会自动改变线条颜色，此时如果没有说明并不方便使用，可以在右上角增加图例，表明各线条所代表的含义，并增加图表的网格效果，代码如下："
   ]
  },
  {
   "cell_type": "markdown",
   "metadata": {},
   "source": [
    "plt.legend(('daily', 'SMA5', 'SMA10'))"
   ]
  },
  {
   "cell_type": "markdown",
   "metadata": {},
   "source": [
    "plt.grid(True)"
   ]
  },
  {
   "cell_type": "markdown",
   "metadata": {},
   "source": [
    "图表如下所示："
   ]
  },
  {
   "cell_type": "markdown",
   "metadata": {},
   "source": [
    "# 总结"
   ]
  },
  {
   "cell_type": "markdown",
   "metadata": {},
   "source": [
    "本章对于matplotlib的基本使用方法进行了介绍，并绘制了基本的股票价格和均线走势图。在后面的章节中对于上述图表增加成交量、MACD值等数据。"
   ]
  },
  {
   "cell_type": "code",
   "execution_count": null,
   "metadata": {
    "collapsed": true
   },
   "outputs": [],
   "source": []
  }
 ],
 "metadata": {
  "kernelspec": {
   "display_name": "Python 3",
   "language": "python",
   "name": "python3"
  },
  "language_info": {
   "codemirror_mode": {
    "name": "ipython",
    "version": 3
   },
   "file_extension": ".py",
   "mimetype": "text/x-python",
   "name": "python",
   "nbconvert_exporter": "python",
   "pygments_lexer": "ipython3",
   "version": "3.6.3"
  }
 },
 "nbformat": 4,
 "nbformat_minor": 2
}
